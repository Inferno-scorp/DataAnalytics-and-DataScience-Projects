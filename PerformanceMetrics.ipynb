{
 "cells": [
  {
   "cell_type": "markdown",
   "metadata": {
    "id": "s0Ej_bXyQvnV"
   },
   "source": [
    "# Compute performance metrics for the given Y and Y_score without sklearn"
   ]
  },
  {
   "cell_type": "code",
   "execution_count": 1,
   "metadata": {
    "id": "4CHb6NE7Qvnc"
   },
   "outputs": [],
   "source": [
    "import numpy as np\n",
    "import pandas as pd\n",
    "from tqdm import tqdm\n",
    "import matplotlib.pyplot as plt\n",
    "# other than these two you should not import any other packages"
   ]
  },
  {
   "cell_type": "markdown",
   "metadata": {
    "id": "KbsWXuDaQvnq"
   },
   "source": [
    "\n",
    "## A. Compute performance metrics for the given data '5_a.csv'\n",
    " <pre>  <b>Note 1:</b> in this data you can see number of positive points >> number of negatives points\n",
    "   <b>Note 2:</b> use pandas or numpy to read the data from <b>5_a.csv</b>\n",
    "   <b>Note 3:</b> you need to derive the class labels from given score</pre> $y^{pred}= \\text{[0 if y_score < 0.5 else 1]}$\n",
    "\n",
    "<pre>\n",
    "<ol>\n",
    "<li> Compute Confusion Matrix </li>\n",
    "<li> Compute F1 Score </li>\n",
    "<li> Compute AUC Score, you need to compute different thresholds and for each threshold compute tpr,fpr and then use               numpy.trapz(tpr_array, fpr_array) <a href='https://stackoverflow.com/q/53603376/4084039'>https://stackoverflow.com/q/53603376/4084039</a>, <a href='https://stackoverflow.com/a/39678975/4084039'>https://stackoverflow.com/a/39678975/4084039</a> Note: it should be numpy.trapz(tpr_array, fpr_array) not numpy.trapz(fpr_array, tpr_array)\n",
    "Note- Make sure that you arrange your probability scores in descending order while calculating AUC</li>\n",
    "<li> Compute Accuracy Score </li>\n",
    "</ol>\n",
    "</pre>"
   ]
  },
  {
   "cell_type": "code",
   "execution_count": 2,
   "metadata": {},
   "outputs": [],
   "source": [
    "df1=pd.read_csv('5_a.csv')\n",
    "df1.shape\n",
    "def confusion_matrix(df,threshold=0.5):\n",
    "    '''Given Dataframe,this function computes values for confusion matrix'''\n",
    "    \n",
    "    df['y^']=np.where(df['proba']<threshold,0,1)  #np.where(condition,ifTrue:Value,else:Value)\n",
    "    #Taken y^ as a binary class ,same as y to compare values\n",
    "    #...(confusion matrix cant process probability scores)\n",
    "    \n",
    "    TP=df1['y'][(df['y']==1)&(df['y^']==1)].count()\n",
    "    FP=df1['y'][(df['y']==0)&(df['y^']==1)].count()\n",
    "    FN=df1['y'][(df['y']==1)&(df['y^']==0)].count()\n",
    "    TN=df1['y'][(df['y']==0)&(df['y^']==0)].count()\n",
    "    \n",
    "    return TP,FP,FN,TN\n",
    "\n",
    "\n",
    "def terms(TP,FP,FN,TN):\n",
    "    '''Given Values for Confusion Matrix this function computes terms to be used in calculation for AUC,ROC'''\n",
    "    \n",
    "    FPR=FP/(FP+TN)\n",
    "    CorrectlyClassified=TP+TN\n",
    "    NumberOfPoints=TP+TN+FP+FN #len(df1)\n",
    "    \n",
    "    precision=TP/(TP+FP)\n",
    "    recall=TP/(TP+FN)\n",
    "    \n",
    "    TPR=recall\n",
    "    FPR=FP/(FP+TN)\n",
    "    \n",
    "    F1=(2*(precision*recall))/(precision+recall)\n",
    "    Accuracy=CorrectlyClassified/NumberOfPoints\n",
    "    \n",
    "    return precision,recall,F1,Accuracy,TPR,FPR"
   ]
  },
  {
   "cell_type": "code",
   "execution_count": 3,
   "metadata": {},
   "outputs": [],
   "source": [
    "df1=df1.sort_values(by='proba',ascending=False)\n",
    "def AUC(df):\n",
    "    '''This function calculates AUC score given DataFrame'''\n",
    "    global TPR,FPR\n",
    "    \n",
    "    TPR,FPR=[],[]\n",
    "    for threshold in tqdm(df['proba']):\n",
    "        TP,FP,FN,TN=confusion_matrix(df,threshold)\n",
    "        precision,recall,F1,Accuracy,TPRate,FPRate=terms(TP,FP,FN,TN)\n",
    "        \n",
    "        TPR.append(TPRate)\n",
    "        FPR.append(FPRate)\n",
    "        \n",
    "        df.drop(columns='y^')\n",
    "    AUC=np.trapz(TPR,FPR)\n",
    "    \n",
    "    return AUC"
   ]
  },
  {
   "cell_type": "code",
   "execution_count": 4,
   "metadata": {},
   "outputs": [
    {
     "name": "stderr",
     "output_type": "stream",
     "text": [
      "100%|███████████████████████████████████████████████████████████████████████████| 10100/10100 [00:22<00:00, 439.82it/s]\n"
     ]
    },
    {
     "name": "stdout",
     "output_type": "stream",
     "text": [
      "AUC=0.48829900000000004\n",
      "\n"
     ]
    },
    {
     "data": {
      "image/png": "[encoded data removed]",
      "text/plain": [
       "<Figure size 432x288 with 1 Axes>"
      ]
     },
     "metadata": {
      "needs_background": "light"
     },
     "output_type": "display_data"
    }
   ],
   "source": [
    "print(f\"AUC={AUC(df1)}\\n\")\n",
    "\n",
    "plt.plot(FPR,TPR,color='c')\n",
    "plt.title('ROC')\n",
    "plt.xlabel(\"FalsePossitiveRate\")\n",
    "plt.ylabel(\"TruePossitiveRate\")\n",
    "plt.show()"
   ]
  },
  {
   "cell_type": "markdown",
   "metadata": {
    "id": "V5KZem1BQvn2"
   },
   "source": [
    "\n",
    "\n",
    "## B. Compute performance metrics for the given data '5_b.csv'\n",
    "<pre>\n",
    "   <b>Note 1:</b> in this data you can see number of positive points << number of negatives points\n",
    "   <b>Note 2:</b> use pandas or numpy to read the data from <b>5_b.csv</b>\n",
    "   <b>Note 3:</b> you need to derive the class labels from given score</pre> $y^{pred}= \\text{[0 if y_score < 0.5 else 1]}$\n",
    "\n",
    "<pre>\n",
    "<ol>\n",
    "<li> Compute Confusion Matrix </li>\n",
    "<li> Compute F1 Score </li>\n",
    "<li> Compute AUC Score, you need to compute different thresholds and for each threshold compute tpr,fpr and then use               numpy.trapz(tpr_array, fpr_array) <a href='https://stackoverflow.com/q/53603376/4084039'>https://stackoverflow.com/q/53603376/4084039</a>, <a href='https://stackoverflow.com/a/39678975/4084039'>https://stackoverflow.com/a/39678975/4084039</a>\n",
    "Note- Make sure that you arrange your probability scores in descending order while calculating AUC</li>\n",
    "<li> Compute Accuracy Score </li>\n",
    "</ol>\n",
    "</pre>"
   ]
  },
  {
   "cell_type": "code",
   "execution_count": 5,
   "metadata": {
    "id": "U2sKlq0YQvn5"
   },
   "outputs": [
    {
     "data": {
      "text/html": [
       "<div>\n",
       "<style scoped>\n",
       "    .dataframe tbody tr th:only-of-type {\n",
       "        vertical-align: middle;\n",
       "    }\n",
       "\n",
       "    .dataframe tbody tr th {\n",
       "        vertical-align: top;\n",
       "    }\n",
       "\n",
       "    .dataframe thead th {\n",
       "        text-align: right;\n",
       "    }\n",
       "</style>\n",
       "<table border=\"1\" class=\"dataframe\">\n",
       "  <thead>\n",
       "    <tr style=\"text-align: right;\">\n",
       "      <th></th>\n",
       "      <th>y</th>\n",
       "      <th>proba</th>\n",
       "    </tr>\n",
       "  </thead>\n",
       "  <tbody>\n",
       "    <tr>\n",
       "      <th>0</th>\n",
       "      <td>0.0</td>\n",
       "      <td>0.281035</td>\n",
       "    </tr>\n",
       "    <tr>\n",
       "      <th>1</th>\n",
       "      <td>0.0</td>\n",
       "      <td>0.465152</td>\n",
       "    </tr>\n",
       "    <tr>\n",
       "      <th>2</th>\n",
       "      <td>0.0</td>\n",
       "      <td>0.352793</td>\n",
       "    </tr>\n",
       "    <tr>\n",
       "      <th>3</th>\n",
       "      <td>0.0</td>\n",
       "      <td>0.157818</td>\n",
       "    </tr>\n",
       "    <tr>\n",
       "      <th>4</th>\n",
       "      <td>0.0</td>\n",
       "      <td>0.276648</td>\n",
       "    </tr>\n",
       "  </tbody>\n",
       "</table>\n",
       "</div>"
      ],
      "text/plain": [
       "     y     proba\n",
       "0  0.0  0.281035\n",
       "1  0.0  0.465152\n",
       "2  0.0  0.352793\n",
       "3  0.0  0.157818\n",
       "4  0.0  0.276648"
      ]
     },
     "execution_count": 5,
     "metadata": {},
     "output_type": "execute_result"
    }
   ],
   "source": [
    "df2=pd.read_csv('5_b.csv')\n",
    "df2.head()"
   ]
  },
  {
   "cell_type": "code",
   "execution_count": 6,
   "metadata": {},
   "outputs": [
    {
     "name": "stderr",
     "output_type": "stream",
     "text": [
      "100%|███████████████████████████████████████████████████████████████████████████| 10100/10100 [00:42<00:00, 238.70it/s]\n"
     ]
    },
    {
     "name": "stdout",
     "output_type": "stream",
     "text": [
      "AUC: 0.9377570000000001\n"
     ]
    },
    {
     "data": {
      "image/png": "[encoded data removed]",
      "text/plain": [
       "<Figure size 432x288 with 1 Axes>"
      ]
     },
     "metadata": {
      "needs_background": "light"
     },
     "output_type": "display_data"
    }
   ],
   "source": [
    "df2=df2.sort_values(by='proba',ascending=False)\n",
    "print(\"AUC:\",AUC(df2))\n",
    "\n",
    "plt.plot(FPR,TPR,color='c')\n",
    "plt.title('ROC')\n",
    "plt.xlabel(\"FalsePossitiveRate\")\n",
    "plt.ylabel(\"TruePossitiveRate\")\n",
    "plt.show()"
   ]
  },
  {
   "cell_type": "markdown",
   "metadata": {
    "id": "GiPGonTzQvoB"
   },
   "source": [
    "### C. Compute the best threshold (similarly to ROC curve computation) of probability which gives lowest values of metric <b>A</b> for the given data \n",
    "<br>\n",
    "\n",
    "you will be predicting label of a data points like this: $y^{pred}= \\text{[0 if y_score < threshold  else 1]}$\n",
    "\n",
    "$ A = 500 \\times \\text{number of false negative} + 100 \\times \\text{numebr of false positive}$\n",
    "\n",
    "<pre>\n",
    "   <b>Note 1:</b> in this data you can see number of negative points > number of positive points\n",
    "   <b>Note 2:</b> use pandas or numpy to read the data from <b>5_c.csv</b>\n",
    "</pre>"
   ]
  },
  {
   "cell_type": "code",
   "execution_count": 7,
   "metadata": {
    "id": "x5HIJzq1QvoE"
   },
   "outputs": [
    {
     "data": {
      "text/html": [
       "<div>\n",
       "<style scoped>\n",
       "    .dataframe tbody tr th:only-of-type {\n",
       "        vertical-align: middle;\n",
       "    }\n",
       "\n",
       "    .dataframe tbody tr th {\n",
       "        vertical-align: top;\n",
       "    }\n",
       "\n",
       "    .dataframe thead th {\n",
       "        text-align: right;\n",
       "    }\n",
       "</style>\n",
       "<table border=\"1\" class=\"dataframe\">\n",
       "  <thead>\n",
       "    <tr style=\"text-align: right;\">\n",
       "      <th></th>\n",
       "      <th>y</th>\n",
       "      <th>proba</th>\n",
       "    </tr>\n",
       "  </thead>\n",
       "  <tbody>\n",
       "    <tr>\n",
       "      <th>2634</th>\n",
       "      <td>1</td>\n",
       "      <td>0.957747</td>\n",
       "    </tr>\n",
       "    <tr>\n",
       "      <th>2548</th>\n",
       "      <td>1</td>\n",
       "      <td>0.951437</td>\n",
       "    </tr>\n",
       "    <tr>\n",
       "      <th>2447</th>\n",
       "      <td>1</td>\n",
       "      <td>0.948638</td>\n",
       "    </tr>\n",
       "    <tr>\n",
       "      <th>2788</th>\n",
       "      <td>1</td>\n",
       "      <td>0.944094</td>\n",
       "    </tr>\n",
       "    <tr>\n",
       "      <th>2456</th>\n",
       "      <td>1</td>\n",
       "      <td>0.941113</td>\n",
       "    </tr>\n",
       "  </tbody>\n",
       "</table>\n",
       "</div>"
      ],
      "text/plain": [
       "      y     proba\n",
       "2634  1  0.957747\n",
       "2548  1  0.951437\n",
       "2447  1  0.948638\n",
       "2788  1  0.944094\n",
       "2456  1  0.941113"
      ]
     },
     "execution_count": 7,
     "metadata": {},
     "output_type": "execute_result"
    }
   ],
   "source": [
    "df3=pd.read_csv('5_c.csv')\n",
    "df3.rename(columns={'prob':'proba'},inplace=True)\n",
    "df3=df3.sort_values(by='proba',ascending=False)\n",
    "df3.head()"
   ]
  },
  {
   "cell_type": "code",
   "execution_count": 8,
   "metadata": {
    "id": "eAPjewjzAfCa"
   },
   "outputs": [],
   "source": [
    "def confusion_matrix(df,threshold):\n",
    "    '''Given Dataframe,this function computes values for confusion matrix'''\n",
    "    \n",
    "    df['y^']=np.where(df['proba']<threshold,0,1) #np.where(condition,ifTrue:Value,else:Value)\n",
    "    #confusion matrix cant process probability scores\n",
    "    TP=df['y'][(df['y']==1)&(df['y^']==1)].count()\n",
    "    FP=df['y'][(df['y']==0)&(df['y^']==1)].count()\n",
    "    FN=df['y'][(df['y']==1)&(df['y^']==0)].count()\n",
    "    TN=df['y'][(df['y']==0)&(df['y^']==0)].count()\n",
    "    return TP,FP,FN,TN\n",
    "\n",
    "\n",
    "def terms(TP,FP,FN,TN):\n",
    "    '''Given Values for Confusion Matrix this function computes terms to be used in calculation for AUC,ROC'''\n",
    "    \n",
    "    FPR=FP/(FP+TN)\n",
    "    CorrectlyClassified=TP+TN\n",
    "    NumberOfPoints=TP+TN+FP+FN #len(df)\n",
    "    \n",
    "    precision=TP/(TP+FP)\n",
    "    recall=TP/(TP+FN)\n",
    "    \n",
    "    TPRate=recall\n",
    "    FPRate=FP/(FP+TN)\n",
    "    \n",
    "    F1=(2*(precision*recall))/(precision+recall)\n",
    "    Accuracy=CorrectlyClassified/NumberOfPoints\n",
    "    \n",
    "    return precision,recall,F1,Accuracy,TPRate,FPRate"
   ]
  },
  {
   "cell_type": "code",
   "execution_count": 9,
   "metadata": {},
   "outputs": [],
   "source": [
    "def threshold(df):\n",
    "    '''This function finds the best threshold with its value'''\n",
    "    \n",
    "    th={}\n",
    "    for prob in tqdm(df['proba']):\n",
    "        TP,FP,FN,TN=confusion_matrix(df,prob) #block1:calculating thresholds\n",
    "        A=(500*FN)+(100*FP)\n",
    "        th[prob]=A\n",
    "       \n",
    "    for k,v in th.items():\n",
    "        if th[k]==min(th.values()): #block2:getting the best threshold with its value \n",
    "            threshold,value=k,v\n",
    "            break\n",
    "            \n",
    "    return threshold,value"
   ]
  },
  {
   "cell_type": "code",
   "execution_count": 10,
   "metadata": {},
   "outputs": [
    {
     "name": "stderr",
     "output_type": "stream",
     "text": [
      "100%|█████████████████████████████████████████████████████████████████████████████| 2852/2852 [00:05<00:00, 544.30it/s]\n"
     ]
    },
    {
     "name": "stdout",
     "output_type": "stream",
     "text": [
      "The best threshold is 0.2300390278970873 with value of 141000\n"
     ]
    }
   ],
   "source": [
    "threshold,value=threshold(df3)\n",
    "print(f\"The best threshold is {threshold} with value of {value}\")"
   ]
  },
  {
   "cell_type": "markdown",
   "metadata": {
    "id": "sD4CcgjXQvoL"
   },
   "source": [
    "\n",
    "## D.</b></font> Compute performance metrics(for regression) for the given data 5_d.csv\n",
    "<pre>    <b>Note 2:</b> use pandas or numpy to read the data from <b>5_d.csv</b>\n",
    "    <b>Note 1:</b> <b>5_d.csv</b> will having two columns Y and predicted_Y both are real valued features\n",
    "<ol>\n",
    "<li> Compute Mean Square Error </li>\n",
    "<li> Compute MAPE: https://www.youtube.com/watch?v=ly6ztgIkUxk</li>\n",
    "<li> Compute R^2 error: https://en.wikipedia.org/wiki/Coefficient_of_determination#Definitions </li>\n",
    "</ol>\n",
    "</pre>"
   ]
  },
  {
   "cell_type": "code",
   "execution_count": 11,
   "metadata": {
    "id": "sVOj-bF9AfCd"
   },
   "outputs": [
    {
     "data": {
      "text/html": [
       "<div>\n",
       "<style scoped>\n",
       "    .dataframe tbody tr th:only-of-type {\n",
       "        vertical-align: middle;\n",
       "    }\n",
       "\n",
       "    .dataframe tbody tr th {\n",
       "        vertical-align: top;\n",
       "    }\n",
       "\n",
       "    .dataframe thead th {\n",
       "        text-align: right;\n",
       "    }\n",
       "</style>\n",
       "<table border=\"1\" class=\"dataframe\">\n",
       "  <thead>\n",
       "    <tr style=\"text-align: right;\">\n",
       "      <th></th>\n",
       "      <th>y</th>\n",
       "      <th>pred</th>\n",
       "    </tr>\n",
       "  </thead>\n",
       "  <tbody>\n",
       "    <tr>\n",
       "      <th>0</th>\n",
       "      <td>101.0</td>\n",
       "      <td>100.0</td>\n",
       "    </tr>\n",
       "    <tr>\n",
       "      <th>1</th>\n",
       "      <td>120.0</td>\n",
       "      <td>100.0</td>\n",
       "    </tr>\n",
       "    <tr>\n",
       "      <th>2</th>\n",
       "      <td>131.0</td>\n",
       "      <td>113.0</td>\n",
       "    </tr>\n",
       "    <tr>\n",
       "      <th>3</th>\n",
       "      <td>164.0</td>\n",
       "      <td>125.0</td>\n",
       "    </tr>\n",
       "    <tr>\n",
       "      <th>4</th>\n",
       "      <td>154.0</td>\n",
       "      <td>152.0</td>\n",
       "    </tr>\n",
       "  </tbody>\n",
       "</table>\n",
       "</div>"
      ],
      "text/plain": [
       "       y   pred\n",
       "0  101.0  100.0\n",
       "1  120.0  100.0\n",
       "2  131.0  113.0\n",
       "3  164.0  125.0\n",
       "4  154.0  152.0"
      ]
     },
     "execution_count": 11,
     "metadata": {},
     "output_type": "execute_result"
    }
   ],
   "source": [
    "df3=pd.read_csv('5_d.csv')\n",
    "df3.head()"
   ]
  },
  {
   "cell_type": "code",
   "execution_count": 12,
   "metadata": {
    "id": "uRhL1pheAfCe"
   },
   "outputs": [],
   "source": [
    "def performance_metrics(df):\n",
    "    '''This function calculates the performance metrics given dataframe (with actual and predicted values)'''\n",
    "    \n",
    "    actual=np.array(df['y'])\n",
    "    predicted=np.array(df['pred'])\n",
    "    \n",
    "    error=np.subtract(actual,predicted)\n",
    "    sq_error=np.square(error)\n",
    "    sum_of_square_of_residual=sq_error.sum()\n",
    "    total_sum_of_squares_of_errors=np.sum(np.square(np.subtract(actual,actual.mean())))\n",
    "    R2_error=1-(sum_of_square_of_residual/total_sum_of_squares_of_errors)\n",
    "    \n",
    "    MSE=sq_error.mean()\n",
    "    MAPE=np.mean(np.abs(error))/np.mean(actual)\n",
    "   \n",
    "    return MSE,MAPE,R2_error"
   ]
  },
  {
   "cell_type": "code",
   "execution_count": 13,
   "metadata": {},
   "outputs": [
    {
     "name": "stdout",
     "output_type": "stream",
     "text": [
      "MSE:177.16569974554707\n",
      "MAPE:0.1291202994009687\n",
      "R2_error:0.9563582786990937\n"
     ]
    }
   ],
   "source": [
    "MSE,MAPE,R2_error=performance_metrics(df3)\n",
    "print(f\"MSE:{MSE}\\nMAPE:{MAPE}\\nR2_error:{R2_error}\")"
   ]
  }
 ],
 "metadata": {
  "colab": {
   "collapsed_sections": [],
   "name": "5_Performance_metrics_Instructions.ipynb",
   "provenance": []
  },
  "kernelspec": {
   "display_name": "Python 3 (ipykernel)",
   "language": "python",
   "name": "python3"
  },
  "language_info": {
   "codemirror_mode": {
    "name": "ipython",
    "version": 3
   },
   "file_extension": ".py",
   "mimetype": "text/x-python",
   "name": "python",
   "nbconvert_exporter": "python",
   "pygments_lexer": "ipython3",
   "version": "3.10.0"
  }
 },
 "nbformat": 4,
 "nbformat_minor": 1
}
