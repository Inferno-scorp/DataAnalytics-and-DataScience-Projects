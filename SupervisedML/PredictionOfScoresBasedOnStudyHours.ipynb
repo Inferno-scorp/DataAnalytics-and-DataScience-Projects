{
 "cells": [
  {
   "cell_type": "markdown",
   "id": "f0309465",
   "metadata": {},
   "source": [
    "### Predicting the percentage of student based on number of study hours with Linear Regression."
   ]
  },
  {
   "cell_type": "markdown",
   "id": "6b054667",
   "metadata": {},
   "source": [
    "**Task:**\n",
    "   - Have to predict the percentage of a student based on the number of study hours.\n",
    "   - source of the data : http://bit.ly/w-data\n",
    "   "
   ]
  },
  {
   "cell_type": "code",
   "execution_count": 1,
   "id": "7817b899",
   "metadata": {},
   "outputs": [],
   "source": [
    "#importing the libraries\n",
    "\n",
    "import numpy as np\n",
    "import pandas as pd\n",
    "import seaborn as sns\n",
    "import matplotlib.pyplot as plt\n",
    "import sklearn"
   ]
  },
  {
   "cell_type": "code",
   "execution_count": 74,
   "id": "afecaa8f",
   "metadata": {
    "tags": []
   },
   "outputs": [],
   "source": [
    "#importing the data\n",
    "\n",
    "df=pd.read_csv('student_scores - student_scores.csv')"
   ]
  },
  {
   "cell_type": "code",
   "execution_count": 78,
   "id": "71e18c80",
   "metadata": {},
   "outputs": [
    {
     "data": {
      "text/html": [
       "<style type=\"text/css\">\n",
       "#T_453d9_row0_col0, #T_453d9_row16_col0 {\n",
       "  background-color: #989898;\n",
       "  color: #f1f1f1;\n",
       "}\n",
       "#T_453d9_row0_col1, #T_453d9_row5_col0 {\n",
       "  background-color: #a3a3a3;\n",
       "  color: #f1f1f1;\n",
       "}\n",
       "#T_453d9_row1_col0 {\n",
       "  background-color: #7f7f7f;\n",
       "  color: #f1f1f1;\n",
       "}\n",
       "#T_453d9_row1_col1 {\n",
       "  background-color: #878787;\n",
       "  color: #f1f1f1;\n",
       "}\n",
       "#T_453d9_row2_col0 {\n",
       "  background-color: #919191;\n",
       "  color: #f1f1f1;\n",
       "}\n",
       "#T_453d9_row2_col1 {\n",
       "  background-color: #9d9d9d;\n",
       "  color: #f1f1f1;\n",
       "}\n",
       "#T_453d9_row3_col0, #T_453d9_row6_col1 {\n",
       "  background-color: #606060;\n",
       "  color: #f1f1f1;\n",
       "}\n",
       "#T_453d9_row3_col1 {\n",
       "  background-color: #6c6c6c;\n",
       "  color: #f1f1f1;\n",
       "}\n",
       "#T_453d9_row4_col0 {\n",
       "  background-color: #8f8f8f;\n",
       "  color: #f1f1f1;\n",
       "}\n",
       "#T_453d9_row4_col1, #T_453d9_row16_col1, #T_453d9_row20_col1 {\n",
       "  background-color: #999999;\n",
       "  color: #f1f1f1;\n",
       "}\n",
       "#T_453d9_row5_col1 {\n",
       "  background-color: #a4a4a4;\n",
       "  color: #f1f1f1;\n",
       "}\n",
       "#T_453d9_row6_col0, #T_453d9_row15_col1 {\n",
       "  background-color: #5a5a5a;\n",
       "  color: #f1f1f1;\n",
       "}\n",
       "#T_453d9_row7_col0, #T_453d9_row7_col1 {\n",
       "  background-color: #7b7b7b;\n",
       "  color: #f1f1f1;\n",
       "}\n",
       "#T_453d9_row8_col0, #T_453d9_row24_col1 {\n",
       "  background-color: #626262;\n",
       "  color: #f1f1f1;\n",
       "}\n",
       "#T_453d9_row8_col1, #T_453d9_row24_col0 {\n",
       "  background-color: #666666;\n",
       "  color: #f1f1f1;\n",
       "}\n",
       "#T_453d9_row9_col0, #T_453d9_row20_col0 {\n",
       "  background-color: #979797;\n",
       "  color: #f1f1f1;\n",
       "}\n",
       "#T_453d9_row9_col1 {\n",
       "  background-color: #9e9e9e;\n",
       "  color: #f1f1f1;\n",
       "}\n",
       "#T_453d9_row10_col0 {\n",
       "  background-color: #676767;\n",
       "  color: #f1f1f1;\n",
       "}\n",
       "#T_453d9_row10_col1 {\n",
       "  background-color: #636363;\n",
       "  color: #f1f1f1;\n",
       "}\n",
       "#T_453d9_row11_col0 {\n",
       "  background-color: #787878;\n",
       "  color: #f1f1f1;\n",
       "}\n",
       "#T_453d9_row11_col1 {\n",
       "  background-color: #797979;\n",
       "  color: #f1f1f1;\n",
       "}\n",
       "#T_453d9_row12_col0 {\n",
       "  background-color: #858585;\n",
       "  color: #f1f1f1;\n",
       "}\n",
       "#T_453d9_row12_col1 {\n",
       "  background-color: #8e8e8e;\n",
       "  color: #f1f1f1;\n",
       "}\n",
       "#T_453d9_row13_col0 {\n",
       "  background-color: #909090;\n",
       "  color: #f1f1f1;\n",
       "}\n",
       "#T_453d9_row13_col1 {\n",
       "  background-color: #8d8d8d;\n",
       "  color: #f1f1f1;\n",
       "}\n",
       "#T_453d9_row14_col0, #T_453d9_row14_col1 {\n",
       "  background-color: #a8a8a8;\n",
       "  color: #f1f1f1;\n",
       "}\n",
       "#T_453d9_row15_col0 {\n",
       "  background-color: #5c5c5c;\n",
       "  color: #f1f1f1;\n",
       "}\n",
       "#T_453d9_row17_col0, #T_453d9_row17_col1 {\n",
       "  background-color: #9f9f9f;\n",
       "  color: #f1f1f1;\n",
       "}\n",
       "#T_453d9_row18_col0 {\n",
       "  background-color: #767676;\n",
       "  color: #f1f1f1;\n",
       "}\n",
       "#T_453d9_row18_col1 {\n",
       "  background-color: #737373;\n",
       "  color: #f1f1f1;\n",
       "}\n",
       "#T_453d9_row19_col0 {\n",
       "  background-color: #696969;\n",
       "  color: #f1f1f1;\n",
       "}\n",
       "#T_453d9_row19_col1 {\n",
       "  background-color: #717171;\n",
       "  color: #f1f1f1;\n",
       "}\n",
       "#T_453d9_row21_col0 {\n",
       "  background-color: #828282;\n",
       "  color: #f1f1f1;\n",
       "}\n",
       "#T_453d9_row21_col1 {\n",
       "  background-color: #818181;\n",
       "  color: #f1f1f1;\n",
       "}\n",
       "#T_453d9_row22_col0 {\n",
       "  background-color: #8c8c8c;\n",
       "  color: #f1f1f1;\n",
       "}\n",
       "#T_453d9_row22_col1 {\n",
       "  background-color: #939393;\n",
       "  color: #f1f1f1;\n",
       "}\n",
       "#T_453d9_row23_col0 {\n",
       "  background-color: #6e6e6e;\n",
       "  color: #f1f1f1;\n",
       "}\n",
       "#T_453d9_row23_col1 {\n",
       "  background-color: #6b6b6b;\n",
       "  color: #f1f1f1;\n",
       "}\n",
       "</style>\n",
       "<table id=\"T_453d9\">\n",
       "  <thead>\n",
       "    <tr>\n",
       "      <th class=\"blank level0\" >&nbsp;</th>\n",
       "      <th id=\"T_453d9_level0_col0\" class=\"col_heading level0 col0\" >Hours</th>\n",
       "      <th id=\"T_453d9_level0_col1\" class=\"col_heading level0 col1\" >Scores</th>\n",
       "    </tr>\n",
       "  </thead>\n",
       "  <tbody>\n",
       "    <tr>\n",
       "      <th id=\"T_453d9_level0_row0\" class=\"row_heading level0 row0\" >0</th>\n",
       "      <td id=\"T_453d9_row0_col0\" class=\"data row0 col0\" >2.500000</td>\n",
       "      <td id=\"T_453d9_row0_col1\" class=\"data row0 col1\" >21</td>\n",
       "    </tr>\n",
       "    <tr>\n",
       "      <th id=\"T_453d9_level0_row1\" class=\"row_heading level0 row1\" >1</th>\n",
       "      <td id=\"T_453d9_row1_col0\" class=\"data row1 col0\" >5.100000</td>\n",
       "      <td id=\"T_453d9_row1_col1\" class=\"data row1 col1\" >47</td>\n",
       "    </tr>\n",
       "    <tr>\n",
       "      <th id=\"T_453d9_level0_row2\" class=\"row_heading level0 row2\" >2</th>\n",
       "      <td id=\"T_453d9_row2_col0\" class=\"data row2 col0\" >3.200000</td>\n",
       "      <td id=\"T_453d9_row2_col1\" class=\"data row2 col1\" >27</td>\n",
       "    </tr>\n",
       "    <tr>\n",
       "      <th id=\"T_453d9_level0_row3\" class=\"row_heading level0 row3\" >3</th>\n",
       "      <td id=\"T_453d9_row3_col0\" class=\"data row3 col0\" >8.500000</td>\n",
       "      <td id=\"T_453d9_row3_col1\" class=\"data row3 col1\" >75</td>\n",
       "    </tr>\n",
       "    <tr>\n",
       "      <th id=\"T_453d9_level0_row4\" class=\"row_heading level0 row4\" >4</th>\n",
       "      <td id=\"T_453d9_row4_col0\" class=\"data row4 col0\" >3.500000</td>\n",
       "      <td id=\"T_453d9_row4_col1\" class=\"data row4 col1\" >30</td>\n",
       "    </tr>\n",
       "    <tr>\n",
       "      <th id=\"T_453d9_level0_row5\" class=\"row_heading level0 row5\" >5</th>\n",
       "      <td id=\"T_453d9_row5_col0\" class=\"data row5 col0\" >1.500000</td>\n",
       "      <td id=\"T_453d9_row5_col1\" class=\"data row5 col1\" >20</td>\n",
       "    </tr>\n",
       "    <tr>\n",
       "      <th id=\"T_453d9_level0_row6\" class=\"row_heading level0 row6\" >6</th>\n",
       "      <td id=\"T_453d9_row6_col0\" class=\"data row6 col0\" >9.200000</td>\n",
       "      <td id=\"T_453d9_row6_col1\" class=\"data row6 col1\" >88</td>\n",
       "    </tr>\n",
       "    <tr>\n",
       "      <th id=\"T_453d9_level0_row7\" class=\"row_heading level0 row7\" >7</th>\n",
       "      <td id=\"T_453d9_row7_col0\" class=\"data row7 col0\" >5.500000</td>\n",
       "      <td id=\"T_453d9_row7_col1\" class=\"data row7 col1\" >60</td>\n",
       "    </tr>\n",
       "    <tr>\n",
       "      <th id=\"T_453d9_level0_row8\" class=\"row_heading level0 row8\" >8</th>\n",
       "      <td id=\"T_453d9_row8_col0\" class=\"data row8 col0\" >8.300000</td>\n",
       "      <td id=\"T_453d9_row8_col1\" class=\"data row8 col1\" >81</td>\n",
       "    </tr>\n",
       "    <tr>\n",
       "      <th id=\"T_453d9_level0_row9\" class=\"row_heading level0 row9\" >9</th>\n",
       "      <td id=\"T_453d9_row9_col0\" class=\"data row9 col0\" >2.700000</td>\n",
       "      <td id=\"T_453d9_row9_col1\" class=\"data row9 col1\" >25</td>\n",
       "    </tr>\n",
       "    <tr>\n",
       "      <th id=\"T_453d9_level0_row10\" class=\"row_heading level0 row10\" >10</th>\n",
       "      <td id=\"T_453d9_row10_col0\" class=\"data row10 col0\" >7.700000</td>\n",
       "      <td id=\"T_453d9_row10_col1\" class=\"data row10 col1\" >85</td>\n",
       "    </tr>\n",
       "    <tr>\n",
       "      <th id=\"T_453d9_level0_row11\" class=\"row_heading level0 row11\" >11</th>\n",
       "      <td id=\"T_453d9_row11_col0\" class=\"data row11 col0\" >5.900000</td>\n",
       "      <td id=\"T_453d9_row11_col1\" class=\"data row11 col1\" >62</td>\n",
       "    </tr>\n",
       "    <tr>\n",
       "      <th id=\"T_453d9_level0_row12\" class=\"row_heading level0 row12\" >12</th>\n",
       "      <td id=\"T_453d9_row12_col0\" class=\"data row12 col0\" >4.500000</td>\n",
       "      <td id=\"T_453d9_row12_col1\" class=\"data row12 col1\" >41</td>\n",
       "    </tr>\n",
       "    <tr>\n",
       "      <th id=\"T_453d9_level0_row13\" class=\"row_heading level0 row13\" >13</th>\n",
       "      <td id=\"T_453d9_row13_col0\" class=\"data row13 col0\" >3.300000</td>\n",
       "      <td id=\"T_453d9_row13_col1\" class=\"data row13 col1\" >42</td>\n",
       "    </tr>\n",
       "    <tr>\n",
       "      <th id=\"T_453d9_level0_row14\" class=\"row_heading level0 row14\" >14</th>\n",
       "      <td id=\"T_453d9_row14_col0\" class=\"data row14 col0\" >1.100000</td>\n",
       "      <td id=\"T_453d9_row14_col1\" class=\"data row14 col1\" >17</td>\n",
       "    </tr>\n",
       "    <tr>\n",
       "      <th id=\"T_453d9_level0_row15\" class=\"row_heading level0 row15\" >15</th>\n",
       "      <td id=\"T_453d9_row15_col0\" class=\"data row15 col0\" >8.900000</td>\n",
       "      <td id=\"T_453d9_row15_col1\" class=\"data row15 col1\" >95</td>\n",
       "    </tr>\n",
       "    <tr>\n",
       "      <th id=\"T_453d9_level0_row16\" class=\"row_heading level0 row16\" >16</th>\n",
       "      <td id=\"T_453d9_row16_col0\" class=\"data row16 col0\" >2.500000</td>\n",
       "      <td id=\"T_453d9_row16_col1\" class=\"data row16 col1\" >30</td>\n",
       "    </tr>\n",
       "    <tr>\n",
       "      <th id=\"T_453d9_level0_row17\" class=\"row_heading level0 row17\" >17</th>\n",
       "      <td id=\"T_453d9_row17_col0\" class=\"data row17 col0\" >1.900000</td>\n",
       "      <td id=\"T_453d9_row17_col1\" class=\"data row17 col1\" >24</td>\n",
       "    </tr>\n",
       "    <tr>\n",
       "      <th id=\"T_453d9_level0_row18\" class=\"row_heading level0 row18\" >18</th>\n",
       "      <td id=\"T_453d9_row18_col0\" class=\"data row18 col0\" >6.100000</td>\n",
       "      <td id=\"T_453d9_row18_col1\" class=\"data row18 col1\" >67</td>\n",
       "    </tr>\n",
       "    <tr>\n",
       "      <th id=\"T_453d9_level0_row19\" class=\"row_heading level0 row19\" >19</th>\n",
       "      <td id=\"T_453d9_row19_col0\" class=\"data row19 col0\" >7.400000</td>\n",
       "      <td id=\"T_453d9_row19_col1\" class=\"data row19 col1\" >69</td>\n",
       "    </tr>\n",
       "    <tr>\n",
       "      <th id=\"T_453d9_level0_row20\" class=\"row_heading level0 row20\" >20</th>\n",
       "      <td id=\"T_453d9_row20_col0\" class=\"data row20 col0\" >2.700000</td>\n",
       "      <td id=\"T_453d9_row20_col1\" class=\"data row20 col1\" >30</td>\n",
       "    </tr>\n",
       "    <tr>\n",
       "      <th id=\"T_453d9_level0_row21\" class=\"row_heading level0 row21\" >21</th>\n",
       "      <td id=\"T_453d9_row21_col0\" class=\"data row21 col0\" >4.800000</td>\n",
       "      <td id=\"T_453d9_row21_col1\" class=\"data row21 col1\" >54</td>\n",
       "    </tr>\n",
       "    <tr>\n",
       "      <th id=\"T_453d9_level0_row22\" class=\"row_heading level0 row22\" >22</th>\n",
       "      <td id=\"T_453d9_row22_col0\" class=\"data row22 col0\" >3.800000</td>\n",
       "      <td id=\"T_453d9_row22_col1\" class=\"data row22 col1\" >35</td>\n",
       "    </tr>\n",
       "    <tr>\n",
       "      <th id=\"T_453d9_level0_row23\" class=\"row_heading level0 row23\" >23</th>\n",
       "      <td id=\"T_453d9_row23_col0\" class=\"data row23 col0\" >6.900000</td>\n",
       "      <td id=\"T_453d9_row23_col1\" class=\"data row23 col1\" >76</td>\n",
       "    </tr>\n",
       "    <tr>\n",
       "      <th id=\"T_453d9_level0_row24\" class=\"row_heading level0 row24\" >24</th>\n",
       "      <td id=\"T_453d9_row24_col0\" class=\"data row24 col0\" >7.800000</td>\n",
       "      <td id=\"T_453d9_row24_col1\" class=\"data row24 col1\" >86</td>\n",
       "    </tr>\n",
       "  </tbody>\n",
       "</table>\n"
      ],
      "text/plain": [
       "<pandas.io.formats.style.Styler at 0x1de62911450>"
      ]
     },
     "execution_count": 78,
     "metadata": {},
     "output_type": "execute_result"
    }
   ],
   "source": [
    "df.style.background_gradient(cmap=sns.color_palette('Greys',as_cmap=True),high=1,low=1.6)"
   ]
  },
  {
   "cell_type": "markdown",
   "id": "b271d532",
   "metadata": {},
   "source": [
    "- Each row having a similar color is an indication of variables having high correlation"
   ]
  },
  {
   "cell_type": "code",
   "execution_count": 59,
   "id": "265c4d99",
   "metadata": {},
   "outputs": [
    {
     "name": "stdout",
     "output_type": "stream",
     "text": [
      "Shape: (25, 2)\n"
     ]
    }
   ],
   "source": [
    "#getting the shape of the data\n",
    "print(\"Shape:\",df.shape)"
   ]
  },
  {
   "cell_type": "code",
   "execution_count": 4,
   "id": "a3f45074",
   "metadata": {},
   "outputs": [
    {
     "name": "stdout",
     "output_type": "stream",
     "text": [
      "0\n",
      "0\n"
     ]
    }
   ],
   "source": [
    "#checking for null values in each column.\n",
    "print(df['Hours'].isna().sum())\n",
    "print(df['Scores'].isna().sum())"
   ]
  },
  {
   "cell_type": "code",
   "execution_count": 5,
   "id": "a5ed07d8",
   "metadata": {},
   "outputs": [
    {
     "data": {
      "text/html": [
       "<div>\n",
       "<style scoped>\n",
       "    .dataframe tbody tr th:only-of-type {\n",
       "        vertical-align: middle;\n",
       "    }\n",
       "\n",
       "    .dataframe tbody tr th {\n",
       "        vertical-align: top;\n",
       "    }\n",
       "\n",
       "    .dataframe thead th {\n",
       "        text-align: right;\n",
       "    }\n",
       "</style>\n",
       "<table border=\"1\" class=\"dataframe\">\n",
       "  <thead>\n",
       "    <tr style=\"text-align: right;\">\n",
       "      <th></th>\n",
       "      <th>Hours</th>\n",
       "      <th>Scores</th>\n",
       "    </tr>\n",
       "  </thead>\n",
       "  <tbody>\n",
       "    <tr>\n",
       "      <th>count</th>\n",
       "      <td>25.000000</td>\n",
       "      <td>25.000000</td>\n",
       "    </tr>\n",
       "    <tr>\n",
       "      <th>mean</th>\n",
       "      <td>5.012000</td>\n",
       "      <td>51.480000</td>\n",
       "    </tr>\n",
       "    <tr>\n",
       "      <th>std</th>\n",
       "      <td>2.525094</td>\n",
       "      <td>25.286887</td>\n",
       "    </tr>\n",
       "    <tr>\n",
       "      <th>min</th>\n",
       "      <td>1.100000</td>\n",
       "      <td>17.000000</td>\n",
       "    </tr>\n",
       "    <tr>\n",
       "      <th>25%</th>\n",
       "      <td>2.700000</td>\n",
       "      <td>30.000000</td>\n",
       "    </tr>\n",
       "    <tr>\n",
       "      <th>50%</th>\n",
       "      <td>4.800000</td>\n",
       "      <td>47.000000</td>\n",
       "    </tr>\n",
       "    <tr>\n",
       "      <th>75%</th>\n",
       "      <td>7.400000</td>\n",
       "      <td>75.000000</td>\n",
       "    </tr>\n",
       "    <tr>\n",
       "      <th>max</th>\n",
       "      <td>9.200000</td>\n",
       "      <td>95.000000</td>\n",
       "    </tr>\n",
       "  </tbody>\n",
       "</table>\n",
       "</div>"
      ],
      "text/plain": [
       "           Hours     Scores\n",
       "count  25.000000  25.000000\n",
       "mean    5.012000  51.480000\n",
       "std     2.525094  25.286887\n",
       "min     1.100000  17.000000\n",
       "25%     2.700000  30.000000\n",
       "50%     4.800000  47.000000\n",
       "75%     7.400000  75.000000\n",
       "max     9.200000  95.000000"
      ]
     },
     "execution_count": 5,
     "metadata": {},
     "output_type": "execute_result"
    }
   ],
   "source": [
    "#description of the data\n",
    "df.describe()"
   ]
  },
  {
   "cell_type": "code",
   "execution_count": 6,
   "id": "c7ce54a1",
   "metadata": {},
   "outputs": [
    {
     "data": {
      "image/png": "[encoded data removed]",
      "text/plain": [
       "<Figure size 432x288 with 1 Axes>"
      ]
     },
     "metadata": {
      "needs_background": "light"
     },
     "output_type": "display_data"
    }
   ],
   "source": [
    "#plotting our coordinates(Hours,Scores) with scatterplot.\n",
    "x=sns.scatterplot(data=df,x='Hours',y='Scores',color='coral')\n",
    "plt.title( 'Hours / Scores' )\n",
    "plt.xlabel( 'Hours Studied' )\n",
    "plt.ylabel('Scores Achieved')\n",
    "plt.grid()"
   ]
  },
  {
   "cell_type": "markdown",
   "id": "94cd84c0",
   "metadata": {},
   "source": [
    "We can see that there is linearity between the two coordinates.which shows if a student studies for longer duration ,he will certainly get better score."
   ]
  },
  {
   "cell_type": "code",
   "execution_count": 7,
   "id": "d76ebcce",
   "metadata": {},
   "outputs": [],
   "source": [
    "#extracting the columns and putting them inside the variables\n",
    "x=df.iloc[:,:-1].values  # df['Hours']\n",
    "y=df.iloc[:,1].values  #df['Scores']\n",
    "\n",
    "from sklearn.model_selection import train_test_split\n",
    "#Splitting our dataset into train and test set with 80:20 ratio.\n",
    "x_train,x_test,y_train,y_test=train_test_split(x,y,test_size=0.2,random_state=0)"
   ]
  },
  {
   "cell_type": "code",
   "execution_count": 8,
   "id": "400cc80f",
   "metadata": {},
   "outputs": [
    {
     "name": "stdout",
     "output_type": "stream",
     "text": [
      "[16.88414476 33.73226078 75.357018   26.79480124 60.49103328]\n",
      "[20 27 69 30 62]\n"
     ]
    }
   ],
   "source": [
    "from sklearn.linear_model import LinearRegression\n",
    "regressor=LinearRegression()\n",
    "regressor.fit(x_train,y_train)    #fitting our train data into linear regression model\n",
    "y_pred=regressor.predict(x_test)\n",
    "print(y_pred) #predicted\n",
    "print(y_test) #actual"
   ]
  },
  {
   "cell_type": "code",
   "execution_count": 9,
   "id": "573686cd",
   "metadata": {},
   "outputs": [
    {
     "name": "stdout",
     "output_type": "stream",
     "text": [
      "Help on function Visualization in module __main__:\n",
      "\n",
      "Visualization(x, y)\n",
      "    This function visualizes the results of given set with linear regression given x and y\n",
      "\n"
     ]
    }
   ],
   "source": [
    "def Visualization(x,y):\n",
    "    '''This function visualizes the results of given set with linear regression given x and y'''\n",
    "    plt.scatter(x,y,color='coral')\n",
    "    plt.plot(x,regressor.predict(x),color='black')\n",
    "    plt.title('Hours vs Scores')\n",
    "    plt.xlabel('Hours_Studied')\n",
    "    plt.ylabel('Scores_achieved')\n",
    "    return plt.show()\n",
    "help(Visualization)"
   ]
  },
  {
   "cell_type": "code",
   "execution_count": 10,
   "id": "9c10bf2a",
   "metadata": {},
   "outputs": [
    {
     "name": "stdout",
     "output_type": "stream",
     "text": [
      "Visualization of Train Set:\n"
     ]
    },
    {
     "data": {
      "image/png": "[encoded data removed]",
      "text/plain": [
       "<Figure size 432x288 with 1 Axes>"
      ]
     },
     "metadata": {
      "needs_background": "light"
     },
     "output_type": "display_data"
    },
    {
     "name": "stdout",
     "output_type": "stream",
     "text": [
      "\n",
      "\n",
      "Visualization of Test Set:\n"
     ]
    },
    {
     "data": {
      "image/png": "[encoded data removed]",
      "text/plain": [
       "<Figure size 432x288 with 1 Axes>"
      ]
     },
     "metadata": {
      "needs_background": "light"
     },
     "output_type": "display_data"
    }
   ],
   "source": [
    "print(\"Visualization of Train Set:\")\n",
    "Visualization(x_train,y_train)\n",
    "print(\"\\n\\nVisualization of Test Set:\")\n",
    "Visualization(x_test,y_test)"
   ]
  },
  {
   "cell_type": "markdown",
   "id": "5b4e24a6",
   "metadata": {},
   "source": [
    "On the Visualization our Train model we have the regression line (which shows the predicted scores) which is very close to points which are actual scores(coral colored points).\n",
    "\n",
    "and now after visualizing our test model which hasn't been trained yet ,here we can observe that model is still predicting the scores pretty accurate for the newer points also.\n",
    "\n",
    "Which implies our model is working properly."
   ]
  },
  {
   "cell_type": "code",
   "execution_count": 17,
   "id": "c1c4c251",
   "metadata": {},
   "outputs": [],
   "source": [
    "df1=pd.DataFrame({'actual':y_test,'predicted':y_pred})"
   ]
  },
  {
   "cell_type": "code",
   "execution_count": 11,
   "id": "84701fb0",
   "metadata": {},
   "outputs": [
    {
     "data": {
      "text/plain": [
       "0.9454906892105355"
      ]
     },
     "execution_count": 11,
     "metadata": {},
     "output_type": "execute_result"
    }
   ],
   "source": [
    "from sklearn.metrics import r2_score #We can also use MSE/RMSE or MAE\n",
    "r2_score(y_test,y_pred)    \n",
    "# our model is performing worst if value is negative,is at constant if 0 and nearly perfect if the value lies close to 1.\n"
   ]
  },
  {
   "cell_type": "markdown",
   "id": "3d5efe02",
   "metadata": {},
   "source": [
    "help(r2_score)\n",
    "- Best possible score is 1.0 and it can be negative (because the\n",
    "    model can be arbitrarily worse)\n",
    "- A constant model that always\n",
    "    predicts the expected value of y, disregarding the input features,\n",
    "    would get a :math:`R^2` score of 0.0.\n",
    "    \n",
    "If we get the values as negative we can still minimize the big errors with the help of taking squares such that both negative and positive points will be on positive side ( ignoring small errors for fixing the Big Errors) such that we will get and idea that how well our model is working i.e, Higher Varience = higher the negative value: Model is not fitting properly."
   ]
  },
  {
   "cell_type": "markdown",
   "id": "0b3a2150",
   "metadata": {},
   "source": [
    "## What will be the predicted score if a student studies 9.25 Hours per day ?"
   ]
  },
  {
   "cell_type": "code",
   "execution_count": 12,
   "id": "3a00b08a",
   "metadata": {},
   "outputs": [
    {
     "name": "stdout",
     "output_type": "stream",
     "text": [
      "If a student studies 9.25 hours a day, He's predicted score will be 93.69173248737535.\n"
     ]
    }
   ],
   "source": [
    "predicted_score=float(regressor.predict([[9.25]]))\n",
    "print(f\"If a student studies 9.25 hours a day, He's predicted score will be {predicted_score}.\")"
   ]
  }
 ],
 "metadata": {
  "kernelspec": {
   "display_name": "Python 3 (ipykernel)",
   "language": "python",
   "name": "python3"
  },
  "language_info": {
   "codemirror_mode": {
    "name": "ipython",
    "version": 3
   },
   "file_extension": ".py",
   "mimetype": "text/x-python",
   "name": "python",
   "nbconvert_exporter": "python",
   "pygments_lexer": "ipython3",
   "version": "3.10.0"
  }
 },
 "nbformat": 4,
 "nbformat_minor": 5
}
